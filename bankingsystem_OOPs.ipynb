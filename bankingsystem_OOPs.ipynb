{
 "cells": [
  {
   "cell_type": "code",
   "execution_count": 21,
   "id": "317bf85a-b094-4472-a3c1-96570f11d8ac",
   "metadata": {},
   "outputs": [
    {
     "name": "stdout",
     "output_type": "stream",
     "text": [
      "Welcome to the Banking System\n"
     ]
    },
    {
     "name": "stdin",
     "output_type": "stream",
     "text": [
      "Enter username:  anirudh\n",
      "Enter password:  pass123\n"
     ]
    },
    {
     "name": "stdout",
     "output_type": "stream",
     "text": [
      "Login successful!\n",
      "\n",
      "1. Deposit\n",
      "2. Withdraw\n",
      "3. Check Balance\n",
      "4. Exit\n"
     ]
    },
    {
     "name": "stdin",
     "output_type": "stream",
     "text": [
      "Enter your choice:  1\n",
      "Enter amount to deposit:  50000\n"
     ]
    },
    {
     "name": "stdout",
     "output_type": "stream",
     "text": [
      "Account Details\n",
      "Amount Deposited: 50000.0 \n",
      "Total balance: 150000.0\n",
      "\n",
      "1. Deposit\n",
      "2. Withdraw\n",
      "3. Check Balance\n",
      "4. Exit\n"
     ]
    },
    {
     "name": "stdin",
     "output_type": "stream",
     "text": [
      "Enter your choice:  2\n",
      "Enter amount to withdraw:  50000\n"
     ]
    },
    {
     "name": "stdout",
     "output_type": "stream",
     "text": [
      "Account Details\n",
      "Amount withdrawn: 50000.0 \n",
      "Total balance: 100000.0\n",
      "\n",
      "1. Deposit\n",
      "2. Withdraw\n",
      "3. Check Balance\n",
      "4. Exit\n"
     ]
    },
    {
     "name": "stdin",
     "output_type": "stream",
     "text": [
      "Enter your choice:  3\n"
     ]
    },
    {
     "name": "stdout",
     "output_type": "stream",
     "text": [
      "Available Balance:  100000.0\n",
      "\n",
      "1. Deposit\n",
      "2. Withdraw\n",
      "3. Check Balance\n",
      "4. Exit\n"
     ]
    },
    {
     "name": "stdin",
     "output_type": "stream",
     "text": [
      "Enter your choice:  4\n"
     ]
    },
    {
     "name": "stdout",
     "output_type": "stream",
     "text": [
      "Thank you for using the banking system!\n"
     ]
    }
   ],
   "source": [
    "class bankaccount:\n",
    "    def __init__(self, username, password, balance=0):\n",
    "        self.username = username\n",
    "        self.password = password\n",
    "        self.balance = balance\n",
    "        \n",
    "    def deposit(self, amount):\n",
    "        self.amount= amount\n",
    "        self.balance += self.amount\n",
    "        print(\"Account Details\")\n",
    "        print(\"Amount Deposited:\", self.amount,\"\\nTotal balance:\", self.balance)\n",
    "        \n",
    "    def withdraw(self, amount):\n",
    "        if self.balance < amount:\n",
    "            print(\"Insufficient balance | Balance Available:\", self.balance)\n",
    "        else:\n",
    "            self.balance -= amount\n",
    "            print(\"Account Details\")\n",
    "            print(\"Amount withdrawn:\", amount,\"\\nTotal balance:\", self.balance)\n",
    "    def check_balance(self):\n",
    "        print(\"Available Balance: \", self.balance)\n",
    "    def authenticate(self, password):\n",
    "        return self.password == password\n",
    "class BankSystem:\n",
    "    def __init__(self):\n",
    "        self.accounts = [\n",
    "            bankaccount(\"Anirudh\", \"pass123\", 100000),\n",
    "            bankaccount(\"Nivedh\", \"1234\", 50000),\n",
    "            bankaccount(\"Amrith\",\"3245\", 60000),\n",
    "        ]\n",
    "\n",
    "    def find_account(self, username):\n",
    "        for account in self.accounts:\n",
    "            if account.username.lower() == username.lower():\n",
    "                return account\n",
    "        return None\n",
    "\n",
    "    def login(self):\n",
    "        username = input(\"Enter username: \")\n",
    "        account = self.find_account(username)\n",
    "        if account:\n",
    "            password = input(\"Enter password: \")\n",
    "            if account.authenticate(password):\n",
    "                print(\"Login successful!\")\n",
    "                self.account_menu(account)\n",
    "            else:\n",
    "                print(\"Invalid password!\")\n",
    "        else:\n",
    "            print(\"Invalid username!\")\n",
    "\n",
    "    def account_menu(self, account):\n",
    "        while True:\n",
    "            print(\"\\n1. Deposit\\n2. Withdraw\\n3. Check Balance\\n4. Exit\")\n",
    "            choice = input(\"Enter your choice: \")\n",
    "            if choice == \"1\":\n",
    "                amount = float(input(\"Enter amount to deposit: \"))\n",
    "                account.deposit(amount)\n",
    "            elif choice == \"2\":\n",
    "                amount = float(input(\"Enter amount to withdraw: \"))\n",
    "                account.withdraw(amount)\n",
    "            elif choice == \"3\":\n",
    "                account.check_balance()\n",
    "            elif choice == \"4\":\n",
    "                print(\"Thank you for using the banking system!\")\n",
    "                break\n",
    "            else:\n",
    "                print(\"Invalid choice! Please try again.\")\n",
    "banking_system = BankSystem()\n",
    "print(\"Welcome to the Banking System\")\n",
    "banking_system.login()"
   ]
  }
 ],
 "metadata": {
  "kernelspec": {
   "display_name": "Python 3 (ipykernel)",
   "language": "python",
   "name": "python3"
  },
  "language_info": {
   "codemirror_mode": {
    "name": "ipython",
    "version": 3
   },
   "file_extension": ".py",
   "mimetype": "text/x-python",
   "name": "python",
   "nbconvert_exporter": "python",
   "pygments_lexer": "ipython3",
   "version": "3.12.4"
  }
 },
 "nbformat": 4,
 "nbformat_minor": 5
}
